{
 "cells": [
  {
   "cell_type": "code",
   "execution_count": 2,
   "metadata": {
    "collapsed": false
   },
   "outputs": [],
   "source": [
    "%matplotlib notebook\n",
    "import numpy as np\n",
    "import matplotlib.pyplot as plt\n",
    "import particlesim.api\n",
    "import particlesim.helpers_for_tests\n",
    "import particlesim.utils.xyz\n",
    "import particlesim.utils.config_parser\n",
    "import particlesim.utils.conversion\n",
    "from particlesim.k_cython import fast_distances\n",
    "\n",
    "from mpl_toolkits.mplot3d import Axes3D"
   ]
  },
  {
   "cell_type": "code",
   "execution_count": 3,
   "metadata": {
    "collapsed": false
   },
   "outputs": [],
   "source": [
    "def plot_nacl(traj,left,right,num_na,traj_sample = -1):\n",
    "    fig = plt.figure()\n",
    "    ax = fig.add_subplot(111, projection='3d')\n",
    "\n",
    "    last_na_pos = traj[traj_sample,:num_na,:]\n",
    "    last_cl_pos = traj[traj_sample,num_na:,:]\n",
    "    \n",
    "    a =(last_na_pos <= right)*(last_na_pos >=left)\n",
    "    a = a[:,0]*a[:,1]*a[:,2]\n",
    "    small_box_na = last_na_pos[a]\n",
    "    b = (last_cl_pos <= right)*(last_cl_pos >=left)\n",
    "    b = b[:,0]*b[:,1]*b[:,2]\n",
    "    \n",
    "    small_box_cl = last_cl_pos[b]\n",
    "    ax.scatter(small_box_na[:,0],small_box_na[:,1],small_box_na[:,2],c='r')\n",
    "    ax.scatter(small_box_cl[:,0],small_box_cl[:,1],small_box_cl[:,2],c='b')\n",
    "    ax.set_xlim([left,right])\n",
    "    ax.set_ylim([left,right])\n",
    "    ax.set_zlim([left,right])"
   ]
  },
  {
   "cell_type": "code",
   "execution_count": 4,
   "metadata": {
    "collapsed": true
   },
   "outputs": [],
   "source": [
    "def create_system_conf_with_na_and_cl(num_na, num_cl, box_size = 12):\n",
    "    particles = particlesim.helpers_for_tests.create_positions(box_size=box_size,number_of_particles=num_na+num_cl)\n",
    "    na = {'sigma':1.21496,'epsilon':0.0469,'charge':1}\n",
    "    cl = {'sigma':2.02234, 'epsilon':0.15,'charge':-1.0}\n",
    "    return particlesim.api.SystemConfiguration(xyz=particles, \n",
    "                                                      sigmas=([na['sigma']]*num_na)+([cl['sigma']]*num_cl),\n",
    "                                                      epsilons=[na['epsilon']]*num_na+[cl['epsilon']]*num_cl,\n",
    "                                                      charges=[na['charge']]*num_na+[cl['charge']]*num_cl,\n",
    "                                                      box_size=box_size)\n"
   ]
  },
  {
   "cell_type": "code",
   "execution_count": 5,
   "metadata": {
    "collapsed": true
   },
   "outputs": [],
   "source": [
    "# Particlenumber\n",
    "N = 100"
   ]
  },
  {
   "cell_type": "code",
   "execution_count": 6,
   "metadata": {
    "collapsed": false
   },
   "outputs": [],
   "source": [
    "sys_conf_64 = create_system_conf_with_na_and_cl(N//2,N//2,16)"
   ]
  },
  {
   "cell_type": "code",
   "execution_count": 7,
   "metadata": {
    "collapsed": true
   },
   "outputs": [],
   "source": [
    "sampler2 = particlesim.api.Sampler(sys_conf_64)"
   ]
  },
  {
   "cell_type": "code",
   "execution_count": 8,
   "metadata": {
    "collapsed": true
   },
   "outputs": [],
   "source": [
    "iteration_number = 1"
   ]
  },
  {
   "cell_type": "code",
   "execution_count": 9,
   "metadata": {
    "collapsed": false
   },
   "outputs": [],
   "source": [
    "beta = [0.2,0.8]\n",
    "beta_values = 1.0 / np.linspace(1.0 / beta[1], 1.0 / beta[0], iteration_number)[::-1]"
   ]
  },
  {
   "cell_type": "code",
   "execution_count": 10,
   "metadata": {
    "collapsed": false
   },
   "outputs": [
    {
     "name": "stdout",
     "output_type": "stream",
     "text": [
      "von  2516.0957425454744  °K bis  629.0239356363686  °K\n"
     ]
    }
   ],
   "source": [
    "print(\"von \", particlesim.utils.conversion.beta_to_kelvin(beta[0]), \" °K bis \", particlesim.utils.conversion.beta_to_kelvin(beta[1]), \" °K\")"
   ]
  },
  {
   "cell_type": "code",
   "execution_count": 11,
   "metadata": {
    "collapsed": false
   },
   "outputs": [],
   "source": [
    "traj_64,pot_64 = sampler2.metropolis_sa(iteration_number,beta=beta,step=0.009)"
   ]
  },
  {
   "cell_type": "code",
   "execution_count": null,
   "metadata": {
    "collapsed": true
   },
   "outputs": [],
   "source": []
  }
 ],
 "metadata": {
  "anaconda-cloud": {},
  "kernelspec": {
   "display_name": "Python [default]",
   "language": "python",
   "name": "python3"
  },
  "language_info": {
   "codemirror_mode": {
    "name": "ipython",
    "version": 3
   },
   "file_extension": ".py",
   "mimetype": "text/x-python",
   "name": "python",
   "nbconvert_exporter": "python",
   "pygments_lexer": "ipython3",
   "version": "3.5.2"
  }
 },
 "nbformat": 4,
 "nbformat_minor": 0
}
