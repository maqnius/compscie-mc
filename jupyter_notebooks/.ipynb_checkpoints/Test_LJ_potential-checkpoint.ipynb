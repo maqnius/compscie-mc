{
 "cells": [
  {
   "cell_type": "markdown",
   "metadata": {},
   "source": [
    "## Lennard Jones Potential\n",
    "\n",
    "test output of Lennard Jones Potential"
   ]
  },
  {
   "cell_type": "code",
   "execution_count": 16,
   "metadata": {
    "collapsed": false
   },
   "outputs": [],
   "source": [
    "%matplotlib inline\n",
    "import numpy as np\n",
    "import matplotlib as plt\n",
    "import particlesim.api"
   ]
  },
  {
   "cell_type": "markdown",
   "metadata": {},
   "source": [
    "* Create a System with two particles and a boxlength of ten\n",
    "* Let particles approach from each side of the box in 1 dimension and calculate Lennard Jones Potential for each step"
   ]
  },
  {
   "cell_type": "code",
   "execution_count": 19,
   "metadata": {
    "collapsed": false
   },
   "outputs": [],
   "source": [
    "particle_1 = [0.,0,0]\n",
    "particle_2 = [9.,0,0]\n",
    "particle_positions = np.array([particle_1, particle_2])\n",
    "system_configuration = particlesim.api.SystemConfiguration(particle_positions,box_size = 10.)\n",
    "while particle_positions[0][0]<= 8.05:\n",
    "    particle_positions[0][0] += 0.05\n",
    "    pot = system_configuration.potential(xyz_trial=particle_positions,coulomb = False)"
   ]
  },
  {
   "cell_type": "code",
   "execution_count": null,
   "metadata": {
    "collapsed": true
   },
   "outputs": [],
   "source": []
  },
  {
   "cell_type": "code",
   "execution_count": null,
   "metadata": {
    "collapsed": true
   },
   "outputs": [],
   "source": []
  }
 ],
 "metadata": {
  "anaconda-cloud": {},
  "kernelspec": {
   "display_name": "Python [conda root]",
   "language": "python",
   "name": "conda-root-py"
  },
  "language_info": {
   "codemirror_mode": {
    "name": "ipython",
    "version": 3
   },
   "file_extension": ".py",
   "mimetype": "text/x-python",
   "name": "python",
   "nbconvert_exporter": "python",
   "pygments_lexer": "ipython3",
   "version": "3.5.2"
  }
 },
 "nbformat": 4,
 "nbformat_minor": 1
}
